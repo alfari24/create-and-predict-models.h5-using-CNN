{
  "nbformat": 4,
  "nbformat_minor": 0,
  "metadata": {
    "colab": {
      "name": "CNN_TERANG_AI.ipynb",
      "provenance": [],
      "collapsed_sections": [
        "5rwBxzPe906J"
      ]
    },
    "kernelspec": {
      "name": "python3",
      "display_name": "Python 3"
    }
  },
  "cells": [
    {
      "cell_type": "markdown",
      "metadata": {
        "id": "KQsre_lt7ppS"
      },
      "source": [
        "# **Utilities**"
      ]
    },
    {
      "cell_type": "code",
      "metadata": {
        "id": "xj9CzzRn6pLV",
        "colab": {
          "base_uri": "https://localhost:8080/"
        },
        "outputId": "3bc803d9-ed9c-408e-909c-998d1c9e59d2"
      },
      "source": [
        "!pip install Augmentor"
      ],
      "execution_count": null,
      "outputs": [
        {
          "output_type": "stream",
          "text": [
            "Requirement already satisfied: Augmentor in /usr/local/lib/python3.7/dist-packages (0.2.8)\n",
            "Requirement already satisfied: future>=0.16.0 in /usr/local/lib/python3.7/dist-packages (from Augmentor) (0.16.0)\n",
            "Requirement already satisfied: numpy>=1.11.0 in /usr/local/lib/python3.7/dist-packages (from Augmentor) (1.19.5)\n",
            "Requirement already satisfied: tqdm>=4.9.0 in /usr/local/lib/python3.7/dist-packages (from Augmentor) (4.41.1)\n",
            "Requirement already satisfied: Pillow>=5.2.0 in /usr/local/lib/python3.7/dist-packages (from Augmentor) (7.1.2)\n"
          ],
          "name": "stdout"
        }
      ]
    },
    {
      "cell_type": "code",
      "metadata": {
        "id": "IsL7DW67mqDH",
        "colab": {
          "base_uri": "https://localhost:8080/"
        },
        "outputId": "363477a4-35ef-44df-d741-03f9d90b6dc4"
      },
      "source": [
        "#!gdown --id 17mJ3QjtqtQIdGzgMsdq8vjAiID-Hdazh\n",
        "!gdown --id 1l6xTWt9FdBCzXbXkehvPAkZN3Wwwpv4_\n",
        "!unzip Kendaraan.zip"
      ],
      "execution_count": null,
      "outputs": [
        {
          "output_type": "stream",
          "text": [
            "Downloading...\n",
            "From: https://drive.google.com/uc?id=1l6xTWt9FdBCzXbXkehvPAkZN3Wwwpv4_\n",
            "To: /content/Kendaraan.zip\n",
            "37.8MB [00:00, 41.3MB/s]\n",
            "Archive:  Kendaraan.zip\n",
            "   creating: Kendaraan/dataset/\n",
            "   creating: Kendaraan/dataset/test/\n",
            "   creating: Kendaraan/dataset/test/alpard/\n",
            "  inflating: Kendaraan/dataset/test/alpard/1.png  \n",
            "  inflating: Kendaraan/dataset/test/alpard/10.png  \n",
            "  inflating: Kendaraan/dataset/test/alpard/2.png  \n",
            "  inflating: Kendaraan/dataset/test/alpard/3.png  \n",
            "  inflating: Kendaraan/dataset/test/alpard/4.png  \n",
            "  inflating: Kendaraan/dataset/test/alpard/5.png  \n",
            "  inflating: Kendaraan/dataset/test/alpard/6.png  \n",
            "  inflating: Kendaraan/dataset/test/alpard/7.png  \n",
            "  inflating: Kendaraan/dataset/test/alpard/8.png  \n",
            "  inflating: Kendaraan/dataset/test/alpard/9.png  \n",
            "   creating: Kendaraan/dataset/test/beat/\n",
            "  inflating: Kendaraan/dataset/test/beat/10.png  \n",
            "  inflating: Kendaraan/dataset/test/beat/11.png  \n",
            "  inflating: Kendaraan/dataset/test/beat/12.png  \n",
            "  inflating: Kendaraan/dataset/test/beat/13.png  \n",
            "  inflating: Kendaraan/dataset/test/beat/14.png  \n",
            "  inflating: Kendaraan/dataset/test/beat/15.png  \n",
            "  inflating: Kendaraan/dataset/test/beat/16.png  \n",
            "  inflating: Kendaraan/dataset/test/beat/17.png  \n",
            "  inflating: Kendaraan/dataset/test/beat/18.png  \n",
            "  inflating: Kendaraan/dataset/test/beat/19.png  \n",
            "  inflating: Kendaraan/dataset/test/beat/20.png  \n",
            "  inflating: Kendaraan/dataset/test/beat/5.png  \n",
            "  inflating: Kendaraan/dataset/test/beat/8.png  \n",
            "  inflating: Kendaraan/dataset/test/beat/9.png  \n",
            "   creating: Kendaraan/dataset/test/kereta/\n",
            "  inflating: Kendaraan/dataset/test/kereta/1.png  \n",
            "  inflating: Kendaraan/dataset/test/kereta/2.png  \n",
            "  inflating: Kendaraan/dataset/test/kereta/3.png  \n",
            "  inflating: Kendaraan/dataset/test/kereta/4.png  \n",
            "  inflating: Kendaraan/dataset/test/kereta/5.png  \n",
            "   creating: Kendaraan/dataset/test/pesawat/\n",
            "  inflating: Kendaraan/dataset/test/pesawat/1.png  \n",
            "  inflating: Kendaraan/dataset/test/pesawat/2.png  \n",
            "  inflating: Kendaraan/dataset/test/pesawat/3.png  \n",
            "  inflating: Kendaraan/dataset/test/pesawat/4.png  \n",
            "  inflating: Kendaraan/dataset/test/pesawat/5.png  \n",
            "  inflating: Kendaraan/dataset/test/pesawat/6.png  \n",
            "   creating: Kendaraan/dataset/test/sai/\n",
            "  inflating: Kendaraan/dataset/test/sai/1.png  \n",
            "  inflating: Kendaraan/dataset/test/sai/10.png  \n",
            "  inflating: Kendaraan/dataset/test/sai/11.png  \n",
            "  inflating: Kendaraan/dataset/test/sai/12.png  \n",
            "  inflating: Kendaraan/dataset/test/sai/13.png  \n",
            "  inflating: Kendaraan/dataset/test/sai/14.png  \n",
            "  inflating: Kendaraan/dataset/test/sai/15.png  \n",
            "  inflating: Kendaraan/dataset/test/sai/16.png  \n",
            "  inflating: Kendaraan/dataset/test/sai/17.png  \n",
            "  inflating: Kendaraan/dataset/test/sai/18.png  \n",
            "  inflating: Kendaraan/dataset/test/sai/19.png  \n",
            "  inflating: Kendaraan/dataset/test/sai/2.png  \n",
            "  inflating: Kendaraan/dataset/test/sai/20.png  \n",
            "  inflating: Kendaraan/dataset/test/sai/3.png  \n",
            "  inflating: Kendaraan/dataset/test/sai/4.png  \n",
            "  inflating: Kendaraan/dataset/test/sai/5.png  \n",
            "  inflating: Kendaraan/dataset/test/sai/6.png  \n",
            "  inflating: Kendaraan/dataset/test/sai/7.png  \n",
            "  inflating: Kendaraan/dataset/test/sai/8.png  \n",
            "  inflating: Kendaraan/dataset/test/sai/9.png  \n",
            "   creating: Kendaraan/dataset/test/scoopy/\n",
            "  inflating: Kendaraan/dataset/test/scoopy/1.png  \n",
            "  inflating: Kendaraan/dataset/test/scoopy/10.png  \n",
            "  inflating: Kendaraan/dataset/test/scoopy/11.png  \n",
            "  inflating: Kendaraan/dataset/test/scoopy/12.png  \n",
            "  inflating: Kendaraan/dataset/test/scoopy/13.png  \n",
            "  inflating: Kendaraan/dataset/test/scoopy/14.png  \n",
            "  inflating: Kendaraan/dataset/test/scoopy/15.png  \n",
            "  inflating: Kendaraan/dataset/test/scoopy/16.png  \n",
            "  inflating: Kendaraan/dataset/test/scoopy/17.png  \n",
            "  inflating: Kendaraan/dataset/test/scoopy/18.png  \n",
            "  inflating: Kendaraan/dataset/test/scoopy/19.png  \n",
            "  inflating: Kendaraan/dataset/test/scoopy/2.png  \n",
            "  inflating: Kendaraan/dataset/test/scoopy/20.png  \n",
            "  inflating: Kendaraan/dataset/test/scoopy/3.png  \n",
            "  inflating: Kendaraan/dataset/test/scoopy/4.png  \n",
            "  inflating: Kendaraan/dataset/test/scoopy/5.png  \n",
            "  inflating: Kendaraan/dataset/test/scoopy/6.png  \n",
            "  inflating: Kendaraan/dataset/test/scoopy/7.png  \n",
            "  inflating: Kendaraan/dataset/test/scoopy/8.png  \n",
            "  inflating: Kendaraan/dataset/test/scoopy/9.png  \n",
            "   creating: Kendaraan/dataset/test/sport/\n",
            "  inflating: Kendaraan/dataset/test/sport/1.png  \n",
            "  inflating: Kendaraan/dataset/test/sport/10.png  \n",
            "  inflating: Kendaraan/dataset/test/sport/11.png  \n",
            "  inflating: Kendaraan/dataset/test/sport/12.png  \n",
            "  inflating: Kendaraan/dataset/test/sport/13.png  \n",
            "  inflating: Kendaraan/dataset/test/sport/14.png  \n",
            "  inflating: Kendaraan/dataset/test/sport/15.png  \n",
            "  inflating: Kendaraan/dataset/test/sport/16.png  \n",
            "  inflating: Kendaraan/dataset/test/sport/17.png  \n",
            "  inflating: Kendaraan/dataset/test/sport/18.png  \n",
            "  inflating: Kendaraan/dataset/test/sport/19.png  \n",
            "  inflating: Kendaraan/dataset/test/sport/2.png  \n",
            "  inflating: Kendaraan/dataset/test/sport/20.png  \n",
            "  inflating: Kendaraan/dataset/test/sport/3.png  \n",
            "  inflating: Kendaraan/dataset/test/sport/4.png  \n",
            "  inflating: Kendaraan/dataset/test/sport/5.png  \n",
            "  inflating: Kendaraan/dataset/test/sport/6.png  \n",
            "  inflating: Kendaraan/dataset/test/sport/7.png  \n",
            "  inflating: Kendaraan/dataset/test/sport/8.png  \n",
            "  inflating: Kendaraan/dataset/test/sport/9.png  \n",
            "   creating: Kendaraan/dataset/test/truck/\n",
            "  inflating: Kendaraan/dataset/test/truck/1.png  \n",
            "  inflating: Kendaraan/dataset/test/truck/10.png  \n",
            "  inflating: Kendaraan/dataset/test/truck/11.png  \n",
            "  inflating: Kendaraan/dataset/test/truck/12.png  \n",
            "  inflating: Kendaraan/dataset/test/truck/13.png  \n",
            "  inflating: Kendaraan/dataset/test/truck/14.png  \n",
            "  inflating: Kendaraan/dataset/test/truck/15.png  \n",
            "  inflating: Kendaraan/dataset/test/truck/16.png  \n",
            "  inflating: Kendaraan/dataset/test/truck/17.png  \n",
            "  inflating: Kendaraan/dataset/test/truck/18.png  \n",
            "  inflating: Kendaraan/dataset/test/truck/19.png  \n",
            "  inflating: Kendaraan/dataset/test/truck/2.png  \n",
            "  inflating: Kendaraan/dataset/test/truck/20.png  \n",
            "  inflating: Kendaraan/dataset/test/truck/3.png  \n",
            "  inflating: Kendaraan/dataset/test/truck/4.png  \n",
            "  inflating: Kendaraan/dataset/test/truck/5.png  \n",
            "  inflating: Kendaraan/dataset/test/truck/6.png  \n",
            "  inflating: Kendaraan/dataset/test/truck/7.png  \n",
            "  inflating: Kendaraan/dataset/test/truck/8.png  \n",
            "  inflating: Kendaraan/dataset/test/truck/9.png  \n",
            "   creating: Kendaraan/dataset/train/\n",
            "   creating: Kendaraan/dataset/train/alpard/\n",
            "  inflating: Kendaraan/dataset/train/alpard/1.png  \n",
            "  inflating: Kendaraan/dataset/train/alpard/10.png  \n",
            "  inflating: Kendaraan/dataset/train/alpard/2.png  \n",
            "  inflating: Kendaraan/dataset/train/alpard/3.png  \n",
            "  inflating: Kendaraan/dataset/train/alpard/4.png  \n",
            "  inflating: Kendaraan/dataset/train/alpard/5.png  \n",
            "  inflating: Kendaraan/dataset/train/alpard/6.png  \n",
            "  inflating: Kendaraan/dataset/train/alpard/7.png  \n",
            "  inflating: Kendaraan/dataset/train/alpard/8.png  \n",
            "  inflating: Kendaraan/dataset/train/alpard/9.png  \n",
            "   creating: Kendaraan/dataset/train/beat/\n",
            "  inflating: Kendaraan/dataset/train/beat/10.png  \n",
            "  inflating: Kendaraan/dataset/train/beat/11.png  \n",
            "  inflating: Kendaraan/dataset/train/beat/12.png  \n",
            "  inflating: Kendaraan/dataset/train/beat/13.png  \n",
            "  inflating: Kendaraan/dataset/train/beat/14.png  \n",
            "  inflating: Kendaraan/dataset/train/beat/15.png  \n",
            "  inflating: Kendaraan/dataset/train/beat/16.png  \n",
            "  inflating: Kendaraan/dataset/train/beat/17.png  \n",
            "  inflating: Kendaraan/dataset/train/beat/18.png  \n",
            "  inflating: Kendaraan/dataset/train/beat/19.png  \n",
            "  inflating: Kendaraan/dataset/train/beat/20.png  \n",
            "  inflating: Kendaraan/dataset/train/beat/5.png  \n",
            "  inflating: Kendaraan/dataset/train/beat/8.png  \n",
            "  inflating: Kendaraan/dataset/train/beat/9.png  \n",
            "   creating: Kendaraan/dataset/train/kereta/\n",
            "  inflating: Kendaraan/dataset/train/kereta/1.png  \n",
            "  inflating: Kendaraan/dataset/train/kereta/2.png  \n",
            "  inflating: Kendaraan/dataset/train/kereta/3.png  \n",
            "  inflating: Kendaraan/dataset/train/kereta/4.png  \n",
            "  inflating: Kendaraan/dataset/train/kereta/5.png  \n",
            "   creating: Kendaraan/dataset/train/pesawat/\n",
            "  inflating: Kendaraan/dataset/train/pesawat/1.png  \n",
            "  inflating: Kendaraan/dataset/train/pesawat/2.png  \n",
            "  inflating: Kendaraan/dataset/train/pesawat/3.png  \n",
            "  inflating: Kendaraan/dataset/train/pesawat/4.png  \n",
            "  inflating: Kendaraan/dataset/train/pesawat/5.png  \n",
            "  inflating: Kendaraan/dataset/train/pesawat/6.png  \n",
            "   creating: Kendaraan/dataset/train/sai/\n",
            "  inflating: Kendaraan/dataset/train/sai/1.png  \n",
            "  inflating: Kendaraan/dataset/train/sai/10.png  \n",
            "  inflating: Kendaraan/dataset/train/sai/11.png  \n",
            "  inflating: Kendaraan/dataset/train/sai/12.png  \n",
            "  inflating: Kendaraan/dataset/train/sai/13.png  \n",
            "  inflating: Kendaraan/dataset/train/sai/14.png  \n",
            "  inflating: Kendaraan/dataset/train/sai/15.png  \n",
            "  inflating: Kendaraan/dataset/train/sai/16.png  \n",
            "  inflating: Kendaraan/dataset/train/sai/17.png  \n",
            "  inflating: Kendaraan/dataset/train/sai/18.png  \n",
            "  inflating: Kendaraan/dataset/train/sai/19.png  \n",
            "  inflating: Kendaraan/dataset/train/sai/2.png  \n",
            "  inflating: Kendaraan/dataset/train/sai/20.png  \n",
            "  inflating: Kendaraan/dataset/train/sai/3.png  \n",
            "  inflating: Kendaraan/dataset/train/sai/4.png  \n",
            "  inflating: Kendaraan/dataset/train/sai/5.png  \n",
            "  inflating: Kendaraan/dataset/train/sai/6.png  \n",
            "  inflating: Kendaraan/dataset/train/sai/7.png  \n",
            "  inflating: Kendaraan/dataset/train/sai/8.png  \n",
            "  inflating: Kendaraan/dataset/train/sai/9.png  \n",
            "   creating: Kendaraan/dataset/train/scoopy/\n",
            "  inflating: Kendaraan/dataset/train/scoopy/1.png  \n",
            "  inflating: Kendaraan/dataset/train/scoopy/10.png  \n",
            "  inflating: Kendaraan/dataset/train/scoopy/11.png  \n",
            "  inflating: Kendaraan/dataset/train/scoopy/12.png  \n",
            "  inflating: Kendaraan/dataset/train/scoopy/13.png  \n",
            "  inflating: Kendaraan/dataset/train/scoopy/14.png  \n",
            "  inflating: Kendaraan/dataset/train/scoopy/15.png  \n",
            "  inflating: Kendaraan/dataset/train/scoopy/16.png  \n",
            "  inflating: Kendaraan/dataset/train/scoopy/17.png  \n",
            "  inflating: Kendaraan/dataset/train/scoopy/18.png  \n",
            "  inflating: Kendaraan/dataset/train/scoopy/19.png  \n",
            "  inflating: Kendaraan/dataset/train/scoopy/2.png  \n",
            "  inflating: Kendaraan/dataset/train/scoopy/20.png  \n",
            "  inflating: Kendaraan/dataset/train/scoopy/3.png  \n",
            "  inflating: Kendaraan/dataset/train/scoopy/4.png  \n",
            "  inflating: Kendaraan/dataset/train/scoopy/5.png  \n",
            "  inflating: Kendaraan/dataset/train/scoopy/6.png  \n",
            "  inflating: Kendaraan/dataset/train/scoopy/7.png  \n",
            "  inflating: Kendaraan/dataset/train/scoopy/8.png  \n",
            "  inflating: Kendaraan/dataset/train/scoopy/9.png  \n",
            "   creating: Kendaraan/dataset/train/sport/\n",
            "  inflating: Kendaraan/dataset/train/sport/1.png  \n",
            "  inflating: Kendaraan/dataset/train/sport/10.png  \n",
            "  inflating: Kendaraan/dataset/train/sport/11.png  \n",
            "  inflating: Kendaraan/dataset/train/sport/12.png  \n",
            "  inflating: Kendaraan/dataset/train/sport/13.png  \n",
            "  inflating: Kendaraan/dataset/train/sport/14.png  \n",
            "  inflating: Kendaraan/dataset/train/sport/15.png  \n",
            "  inflating: Kendaraan/dataset/train/sport/16.png  \n",
            "  inflating: Kendaraan/dataset/train/sport/17.png  \n",
            "  inflating: Kendaraan/dataset/train/sport/18.png  \n",
            "  inflating: Kendaraan/dataset/train/sport/19.png  \n",
            "  inflating: Kendaraan/dataset/train/sport/2.png  \n",
            "  inflating: Kendaraan/dataset/train/sport/20.png  \n",
            "  inflating: Kendaraan/dataset/train/sport/3.png  \n",
            "  inflating: Kendaraan/dataset/train/sport/4.png  \n",
            "  inflating: Kendaraan/dataset/train/sport/5.png  \n",
            "  inflating: Kendaraan/dataset/train/sport/6.png  \n",
            "  inflating: Kendaraan/dataset/train/sport/7.png  \n",
            "  inflating: Kendaraan/dataset/train/sport/8.png  \n",
            "  inflating: Kendaraan/dataset/train/sport/9.png  \n",
            "   creating: Kendaraan/dataset/train/truck/\n",
            "  inflating: Kendaraan/dataset/train/truck/1.png  \n",
            "  inflating: Kendaraan/dataset/train/truck/10.png  \n",
            "  inflating: Kendaraan/dataset/train/truck/11.png  \n",
            "  inflating: Kendaraan/dataset/train/truck/12.png  \n",
            "  inflating: Kendaraan/dataset/train/truck/13.png  \n",
            "  inflating: Kendaraan/dataset/train/truck/14.png  \n",
            "  inflating: Kendaraan/dataset/train/truck/15.png  \n",
            "  inflating: Kendaraan/dataset/train/truck/16.png  \n",
            "  inflating: Kendaraan/dataset/train/truck/17.png  \n",
            "  inflating: Kendaraan/dataset/train/truck/18.png  \n",
            "  inflating: Kendaraan/dataset/train/truck/19.png  \n",
            "  inflating: Kendaraan/dataset/train/truck/2.png  \n",
            "  inflating: Kendaraan/dataset/train/truck/20.png  \n",
            "  inflating: Kendaraan/dataset/train/truck/3.png  \n",
            "  inflating: Kendaraan/dataset/train/truck/4.png  \n",
            "  inflating: Kendaraan/dataset/train/truck/5.png  \n",
            "  inflating: Kendaraan/dataset/train/truck/6.png  \n",
            "  inflating: Kendaraan/dataset/train/truck/7.png  \n",
            "  inflating: Kendaraan/dataset/train/truck/8.png  \n",
            "  inflating: Kendaraan/dataset/train/truck/9.png  \n"
          ],
          "name": "stdout"
        }
      ]
    },
    {
      "cell_type": "markdown",
      "metadata": {
        "id": "5rwBxzPe906J"
      },
      "source": [
        "# **Perbanyak Dataset Sampel**"
      ]
    },
    {
      "cell_type": "code",
      "metadata": {
        "id": "ljbb2h786Jfs"
      },
      "source": [
        "!rm -r Kendaraan"
      ],
      "execution_count": null,
      "outputs": []
    },
    {
      "cell_type": "code",
      "metadata": {
        "id": "FedPLrJg5Fn8",
        "colab": {
          "base_uri": "https://localhost:8080/"
        },
        "outputId": "2079902e-fa21-4956-afb0-d7e8e1468da6"
      },
      "source": [
        "import Augmentor\n",
        "import os\n",
        "from keras.models import Sequential\n",
        "from keras.layers import Conv2D, MaxPooling2D, Flatten, Dense, Activation\n",
        "from keras.preprocessing.image import ImageDataGenerator\n",
        "\n",
        "\n",
        "def perbanyak_(ini, sebanyak_ini):\n",
        "  source_dir = ini\n",
        "  output_dir = \".\"\n",
        "  p = Augmentor.Pipeline(source_directory=source_dir, output_directory=output_dir)\n",
        "  p.random_distortion(probability=1, grid_width=4, grid_height=4, magnitude=1)\n",
        "  p.rotate(probability=0.7, max_left_rotation=13, max_right_rotation=13)\n",
        "  p.zoom_random(probability=0.5, percentage_area=0.9)\n",
        "  p.crop_random(probability=0.6, percentage_area=0.9)\n",
        "  p.resize(probability=1.0, width=64, height=64)\n",
        "\n",
        "  p.sample(sebanyak_ini)\n",
        "#\n",
        "perbanyak_(\"Kendaraan/dataset/test/beat\", 100)\n",
        "perbanyak_(\"Kendaraan/dataset/test/sai\", 100)\n",
        "perbanyak_(\"Kendaraan/dataset/test/scoopy\", 100)\n",
        "perbanyak_(\"Kendaraan/dataset/test/alpard\", 100)\n",
        "perbanyak_(\"Kendaraan/dataset/test/kereta\", 100)\n",
        "perbanyak_(\"Kendaraan/dataset/test/pesawat\",100)\n",
        "perbanyak_(\"Kendaraan/dataset/test/sport\", 100)\n",
        "perbanyak_(\"Kendaraan/dataset/test/truck\", 100)\n",
        "\n",
        "\n",
        "perbanyak_(\"Kendaraan/dataset/train/beat\", 100)\n",
        "perbanyak_(\"Kendaraan/dataset/train/sai\", 100)\n",
        "perbanyak_(\"Kendaraan/dataset/train/scoopy\", 100)\n",
        "perbanyak_(\"Kendaraan/dataset/train/alpard\", 100)\n",
        "perbanyak_(\"Kendaraan/dataset/train/kereta\", 100)\n",
        "perbanyak_(\"Kendaraan/dataset/train/pesawat\", 100)\n",
        "perbanyak_(\"Kendaraan/dataset/train/sport\", 100)\n",
        "perbanyak_(\"Kendaraan/dataset/train/truck\", 100)\n",
        "\n"
      ],
      "execution_count": null,
      "outputs": [
        {
          "output_type": "stream",
          "text": [
            "Processing <PIL.Image.Image image mode=RGB size=64x64 at 0x7FAD411C0ED0>:   8%|▊         | 8/100 [00:00<00:10,  8.98 Samples/s]"
          ],
          "name": "stderr"
        },
        {
          "output_type": "stream",
          "text": [
            "Initialised with 14 image(s) found.\n",
            "Output directory set to Kendaraan/dataset/test/beat/.."
          ],
          "name": "stdout"
        },
        {
          "output_type": "stream",
          "text": [
            "Processing <PIL.Image.Image image mode=RGB size=64x64 at 0x7FAD3C76AE10>: 100%|██████████| 100/100 [00:01<00:00, 65.74 Samples/s]\n",
            "Processing <PIL.Image.Image image mode=RGB size=64x64 at 0x7FAD3C774790>:   5%|▌         | 5/100 [00:00<00:10,  9.12 Samples/s]"
          ],
          "name": "stderr"
        },
        {
          "output_type": "stream",
          "text": [
            "Initialised with 20 image(s) found.\n",
            "Output directory set to Kendaraan/dataset/test/sai/.."
          ],
          "name": "stdout"
        },
        {
          "output_type": "stream",
          "text": [
            "Processing <PIL.Image.Image image mode=RGB size=64x64 at 0x7FAD3C738B10>: 100%|██████████| 100/100 [00:06<00:00, 15.51 Samples/s]\n",
            "Executing Pipeline:   0%|          | 0/100 [00:00<?, ? Samples/s]"
          ],
          "name": "stderr"
        },
        {
          "output_type": "stream",
          "text": [
            "Initialised with 20 image(s) found.\n",
            "Output directory set to Kendaraan/dataset/test/scoopy/.."
          ],
          "name": "stdout"
        },
        {
          "output_type": "stream",
          "text": [
            "Processing <PIL.Image.Image image mode=RGB size=64x64 at 0x7FAD3C77E610>: 100%|██████████| 100/100 [00:04<00:00, 22.15 Samples/s]\n",
            "Processing <PIL.Image.Image image mode=RGB size=64x64 at 0x7FAD411CF690>:   2%|▏         | 2/100 [00:00<00:11,  8.45 Samples/s]"
          ],
          "name": "stderr"
        },
        {
          "output_type": "stream",
          "text": [
            "Initialised with 10 image(s) found.\n",
            "Output directory set to Kendaraan/dataset/test/alpard/.."
          ],
          "name": "stdout"
        },
        {
          "output_type": "stream",
          "text": [
            "Processing <PIL.Image.Image image mode=RGB size=64x64 at 0x7FAD3C784E90>: 100%|██████████| 100/100 [00:03<00:00, 30.27 Samples/s]\n",
            "Processing <PIL.Image.Image image mode=RGB size=64x64 at 0x7FAD3C774210>:   1%|          | 1/100 [00:00<00:10,  9.62 Samples/s]"
          ],
          "name": "stderr"
        },
        {
          "output_type": "stream",
          "text": [
            "Initialised with 5 image(s) found.\n",
            "Output directory set to Kendaraan/dataset/test/kereta/.."
          ],
          "name": "stdout"
        },
        {
          "output_type": "stream",
          "text": [
            "Processing <PIL.Image.Image image mode=RGB size=64x64 at 0x7FAD411E6C90>: 100%|██████████| 100/100 [00:02<00:00, 35.32 Samples/s]\n",
            "Processing <PIL.Image.Image image mode=RGB size=64x64 at 0x7FAD3C737890>:   4%|▍         | 4/100 [00:00<00:13,  6.88 Samples/s]"
          ],
          "name": "stderr"
        },
        {
          "output_type": "stream",
          "text": [
            "Initialised with 6 image(s) found.\n",
            "Output directory set to Kendaraan/dataset/test/pesawat/.."
          ],
          "name": "stdout"
        },
        {
          "output_type": "stream",
          "text": [
            "Processing <PIL.Image.Image image mode=RGB size=64x64 at 0x7FAD3C76AED0>: 100%|██████████| 100/100 [00:01<00:00, 62.16 Samples/s]\n",
            "Executing Pipeline:   0%|          | 0/100 [00:00<?, ? Samples/s]"
          ],
          "name": "stderr"
        },
        {
          "output_type": "stream",
          "text": [
            "Initialised with 20 image(s) found.\n",
            "Output directory set to Kendaraan/dataset/test/sport/.."
          ],
          "name": "stdout"
        },
        {
          "output_type": "stream",
          "text": [
            "Processing <PIL.Image.Image image mode=RGB size=64x64 at 0x7FAD411C0DD0>: 100%|██████████| 100/100 [00:04<00:00, 22.11 Samples/s]\n",
            "Processing <PIL.Image.Image image mode=RGB size=64x64 at 0x7FAD3C774B90>:   4%|▍         | 4/100 [00:00<00:03, 28.29 Samples/s]"
          ],
          "name": "stderr"
        },
        {
          "output_type": "stream",
          "text": [
            "Initialised with 20 image(s) found.\n",
            "Output directory set to Kendaraan/dataset/test/truck/.."
          ],
          "name": "stdout"
        },
        {
          "output_type": "stream",
          "text": [
            "Processing <PIL.Image.Image image mode=RGB size=64x64 at 0x7FAD411B2E50>: 100%|██████████| 100/100 [00:01<00:00, 54.45 Samples/s]\n",
            "Processing <PIL.Image.Image image mode=RGB size=64x64 at 0x7FAD3C73BED0>:   1%|          | 1/100 [00:00<00:18,  5.50 Samples/s]"
          ],
          "name": "stderr"
        },
        {
          "output_type": "stream",
          "text": [
            "Initialised with 14 image(s) found.\n",
            "Output directory set to Kendaraan/dataset/train/beat/.."
          ],
          "name": "stdout"
        },
        {
          "output_type": "stream",
          "text": [
            "Processing <PIL.Image.Image image mode=RGB size=64x64 at 0x7FAD41249F90>: 100%|██████████| 100/100 [00:01<00:00, 63.12 Samples/s]\n",
            "Processing <PIL.Image.Image image mode=RGB size=64x64 at 0x7FAD411CF650>:   4%|▍         | 4/100 [00:00<00:12,  7.98 Samples/s]"
          ],
          "name": "stderr"
        },
        {
          "output_type": "stream",
          "text": [
            "Initialised with 20 image(s) found.\n",
            "Output directory set to Kendaraan/dataset/train/sai/.."
          ],
          "name": "stdout"
        },
        {
          "output_type": "stream",
          "text": [
            "Processing <PIL.Image.Image image mode=RGBA size=64x64 at 0x7FAD3C784850>: 100%|██████████| 100/100 [00:06<00:00, 15.17 Samples/s]\n",
            "Processing <PIL.Image.Image image mode=RGB size=64x64 at 0x7FAD411DECD0>:   1%|          | 1/100 [00:00<00:14,  6.86 Samples/s]"
          ],
          "name": "stderr"
        },
        {
          "output_type": "stream",
          "text": [
            "Initialised with 20 image(s) found.\n",
            "Output directory set to Kendaraan/dataset/train/scoopy/.."
          ],
          "name": "stdout"
        },
        {
          "output_type": "stream",
          "text": [
            "Processing <PIL.Image.Image image mode=RGB size=64x64 at 0x7FAD411E6E90>: 100%|██████████| 100/100 [00:04<00:00, 24.56 Samples/s]\n",
            "Processing <PIL.Image.Image image mode=RGB size=64x64 at 0x7FAD3C73B590>:   2%|▏         | 2/100 [00:00<00:08, 12.01 Samples/s]"
          ],
          "name": "stderr"
        },
        {
          "output_type": "stream",
          "text": [
            "Initialised with 10 image(s) found.\n",
            "Output directory set to Kendaraan/dataset/train/alpard/.."
          ],
          "name": "stdout"
        },
        {
          "output_type": "stream",
          "text": [
            "Processing <PIL.Image.Image image mode=RGB size=64x64 at 0x7FAD411DE250>: 100%|██████████| 100/100 [00:03<00:00, 28.36 Samples/s]\n",
            "Processing <PIL.Image.Image image mode=RGB size=64x64 at 0x7FAD4174A690>:   1%|          | 1/100 [00:00<00:11,  8.77 Samples/s]"
          ],
          "name": "stderr"
        },
        {
          "output_type": "stream",
          "text": [
            "Initialised with 5 image(s) found.\n",
            "Output directory set to Kendaraan/dataset/train/kereta/.."
          ],
          "name": "stdout"
        },
        {
          "output_type": "stream",
          "text": [
            "Processing <PIL.Image.Image image mode=RGB size=64x64 at 0x7FAD3C6E7710>: 100%|██████████| 100/100 [00:03<00:00, 25.04 Samples/s]\n",
            "Processing <PIL.Image.Image image mode=RGB size=64x64 at 0x7FAD3C757750>:   5%|▌         | 5/100 [00:00<00:13,  6.80 Samples/s]"
          ],
          "name": "stderr"
        },
        {
          "output_type": "stream",
          "text": [
            "Initialised with 6 image(s) found.\n",
            "Output directory set to Kendaraan/dataset/train/pesawat/.."
          ],
          "name": "stdout"
        },
        {
          "output_type": "stream",
          "text": [
            "Processing <PIL.Image.Image image mode=RGB size=64x64 at 0x7FAD411CFF10>: 100%|██████████| 100/100 [00:01<00:00, 61.10 Samples/s]\n",
            "Processing <PIL.Image.Image image mode=RGB size=64x64 at 0x7FAD3C78CA50>:   8%|▊         | 8/100 [00:00<00:10,  8.88 Samples/s]"
          ],
          "name": "stderr"
        },
        {
          "output_type": "stream",
          "text": [
            "Initialised with 20 image(s) found.\n",
            "Output directory set to Kendaraan/dataset/train/sport/.."
          ],
          "name": "stdout"
        },
        {
          "output_type": "stream",
          "text": [
            "Processing <PIL.Image.Image image mode=RGB size=64x64 at 0x7FAD411C0E10>: 100%|██████████| 100/100 [00:05<00:00, 19.27 Samples/s]\n",
            "Processing <PIL.Image.Image image mode=RGB size=64x64 at 0x7FAD3C784D10>:   4%|▍         | 4/100 [00:00<00:05, 19.12 Samples/s]"
          ],
          "name": "stderr"
        },
        {
          "output_type": "stream",
          "text": [
            "Initialised with 20 image(s) found.\n",
            "Output directory set to Kendaraan/dataset/train/truck/.."
          ],
          "name": "stdout"
        },
        {
          "output_type": "stream",
          "text": [
            "Processing <PIL.Image.Image image mode=RGB size=64x64 at 0x7FAD3C774710>: 100%|██████████| 100/100 [00:01<00:00, 54.97 Samples/s]\n"
          ],
          "name": "stderr"
        }
      ]
    },
    {
      "cell_type": "code",
      "metadata": {
        "id": "xdlxte8a8gM-"
      },
      "source": [
        "#\n",
        "!rm Kendaraan/dataset/train/beat/5.png\n",
        "!rm Kendaraan/dataset/train/beat/8.png\n",
        "!rm Kendaraan/dataset/train/beat/9.png\n",
        "!rm Kendaraan/dataset/train/beat/10.png\n",
        "!rm Kendaraan/dataset/train/beat/11.png\n",
        "!rm Kendaraan/dataset/train/beat/12.png\n",
        "!rm Kendaraan/dataset/train/beat/13.png\n",
        "!rm Kendaraan/dataset/train/beat/14.png\n",
        "!rm Kendaraan/dataset/train/beat/15.png\n",
        "!rm Kendaraan/dataset/train/beat/16.png\n",
        "!rm Kendaraan/dataset/train/beat/17.png\n",
        "!rm Kendaraan/dataset/train/beat/18.png\n",
        "!rm Kendaraan/dataset/train/beat/19.png\n",
        "!rm Kendaraan/dataset/train/beat/20.png\n",
        "\n",
        "!rm Kendaraan/dataset/train/alpard/1.png\n",
        "!rm Kendaraan/dataset/train/alpard/2.png\n",
        "!rm Kendaraan/dataset/train/alpard/3.png\n",
        "!rm Kendaraan/dataset/train/alpard/4.png\n",
        "!rm Kendaraan/dataset/train/alpard/5.png\n",
        "!rm Kendaraan/dataset/train/alpard/6.png\n",
        "!rm Kendaraan/dataset/train/alpard/7.png\n",
        "!rm Kendaraan/dataset/train/alpard/8.png\n",
        "!rm Kendaraan/dataset/train/alpard/9.png\n",
        "!rm Kendaraan/dataset/train/alpard/10.png\n",
        "\n",
        "!rm Kendaraan/dataset/train/kereta/1.png\n",
        "!rm Kendaraan/dataset/train/kereta/2.png\n",
        "!rm Kendaraan/dataset/train/kereta/3.png\n",
        "!rm Kendaraan/dataset/train/kereta/4.png\n",
        "!rm Kendaraan/dataset/train/kereta/5.png\n",
        "\n",
        "!rm Kendaraan/dataset/train/pesawat/1.png\n",
        "!rm Kendaraan/dataset/train/pesawat/2.png\n",
        "!rm Kendaraan/dataset/train/pesawat/3.png\n",
        "!rm Kendaraan/dataset/train/pesawat/4.png\n",
        "!rm Kendaraan/dataset/train/pesawat/5.png\n",
        "!rm Kendaraan/dataset/train/pesawat/6.png\n",
        "\n",
        "!rm Kendaraan/dataset/train/sai/1.png\n",
        "!rm Kendaraan/dataset/train/sai/2.png\n",
        "!rm Kendaraan/dataset/train/sai/3.png\n",
        "!rm Kendaraan/dataset/train/sai/4.png\n",
        "!rm Kendaraan/dataset/train/sai/5.png\n",
        "!rm Kendaraan/dataset/train/sai/6.png\n",
        "!rm Kendaraan/dataset/train/sai/7.png\n",
        "!rm Kendaraan/dataset/train/sai/8.png\n",
        "!rm Kendaraan/dataset/train/sai/9.png\n",
        "!rm Kendaraan/dataset/train/sai/10.png\n",
        "!rm Kendaraan/dataset/train/sai/11.png\n",
        "!rm Kendaraan/dataset/train/sai/12.png\n",
        "!rm Kendaraan/dataset/train/sai/13.png\n",
        "!rm Kendaraan/dataset/train/sai/14.png\n",
        "!rm Kendaraan/dataset/train/sai/15.png\n",
        "!rm Kendaraan/dataset/train/sai/16.png\n",
        "!rm Kendaraan/dataset/train/sai/17.png\n",
        "!rm Kendaraan/dataset/train/sai/18.png\n",
        "!rm Kendaraan/dataset/train/sai/20.png\n",
        "\n",
        "!rm Kendaraan/dataset/train/scoopy/1.png\n",
        "!rm Kendaraan/dataset/train/scoopy/2.png\n",
        "!rm Kendaraan/dataset/train/scoopy/3.png\n",
        "!rm Kendaraan/dataset/train/scoopy/4.png\n",
        "!rm Kendaraan/dataset/train/scoopy/5.png\n",
        "!rm Kendaraan/dataset/train/scoopy/6.png\n",
        "!rm Kendaraan/dataset/train/scoopy/7.png\n",
        "!rm Kendaraan/dataset/train/scoopy/8.png\n",
        "!rm Kendaraan/dataset/train/scoopy/9.png\n",
        "!rm Kendaraan/dataset/train/scoopy/10.png\n",
        "!rm Kendaraan/dataset/train/scoopy/11.png\n",
        "!rm Kendaraan/dataset/train/scoopy/12.png\n",
        "!rm Kendaraan/dataset/train/scoopy/13.png\n",
        "!rm Kendaraan/dataset/train/scoopy/14.png\n",
        "!rm Kendaraan/dataset/train/scoopy/15.png\n",
        "!rm Kendaraan/dataset/train/scoopy/16.png\n",
        "!rm Kendaraan/dataset/train/scoopy/17.png\n",
        "!rm Kendaraan/dataset/train/scoopy/18.png\n",
        "!rm Kendaraan/dataset/train/scoopy/19.png\n",
        "!rm Kendaraan/dataset/train/scoopy/20.png\n",
        "\n",
        "!rm Kendaraan/dataset/train/sport/1.png\n",
        "!rm Kendaraan/dataset/train/sport/2.png\n",
        "!rm Kendaraan/dataset/train/sport/3.png\n",
        "!rm Kendaraan/dataset/train/sport/4.png\n",
        "!rm Kendaraan/dataset/train/sport/5.png\n",
        "!rm Kendaraan/dataset/train/sport/6.png\n",
        "!rm Kendaraan/dataset/train/sport/7.png\n",
        "!rm Kendaraan/dataset/train/sport/8.png\n",
        "!rm Kendaraan/dataset/train/sport/9.png\n",
        "!rm Kendaraan/dataset/train/sport/10.png\n",
        "!rm Kendaraan/dataset/train/sport/11.png\n",
        "!rm Kendaraan/dataset/train/sport/12.png\n",
        "!rm Kendaraan/dataset/train/sport/13.png\n",
        "!rm Kendaraan/dataset/train/sport/14.png\n",
        "!rm Kendaraan/dataset/train/sport/15.png\n",
        "!rm Kendaraan/dataset/train/sport/16.png\n",
        "!rm Kendaraan/dataset/train/sport/17.png\n",
        "!rm Kendaraan/dataset/train/sport/18.png\n",
        "!rm Kendaraan/dataset/train/sport/19.png\n",
        "!rm Kendaraan/dataset/train/sport/20.png\n",
        "\n",
        "!rm Kendaraan/dataset/train/truck/1.png\n",
        "!rm Kendaraan/dataset/train/truck/2.png\n",
        "!rm Kendaraan/dataset/train/truck/3.png\n",
        "!rm Kendaraan/dataset/train/truck/4.png\n",
        "!rm Kendaraan/dataset/train/truck/5.png\n",
        "!rm Kendaraan/dataset/train/truck/6.png\n",
        "!rm Kendaraan/dataset/train/truck/7.png\n",
        "!rm Kendaraan/dataset/train/truck/8.png\n",
        "!rm Kendaraan/dataset/train/truck/9.png\n",
        "!rm Kendaraan/dataset/train/truck/10.png\n",
        "!rm Kendaraan/dataset/train/truck/11.png\n",
        "!rm Kendaraan/dataset/train/truck/12.png\n",
        "!rm Kendaraan/dataset/train/truck/13.png\n",
        "!rm Kendaraan/dataset/train/truck/14.png\n",
        "!rm Kendaraan/dataset/train/truck/15.png\n",
        "!rm Kendaraan/dataset/train/truck/16.png\n",
        "!rm Kendaraan/dataset/train/truck/17.png\n",
        "!rm Kendaraan/dataset/train/truck/18.png\n",
        "!rm Kendaraan/dataset/train/truck/19.png\n",
        "!rm Kendaraan/dataset/train/truck/20.png\n",
        "\n",
        "#"
      ],
      "execution_count": null,
      "outputs": []
    },
    {
      "cell_type": "markdown",
      "metadata": {
        "id": "iZuCw4zpe9If"
      },
      "source": [
        "#**Fase Training**\n"
      ]
    },
    {
      "cell_type": "code",
      "metadata": {
        "id": "lCJtLmVC62mZ",
        "colab": {
          "base_uri": "https://localhost:8080/"
        },
        "outputId": "8aaaa887-b0f3-4e7c-d705-90fd479af60d"
      },
      "source": [
        "from keras.models import Sequential\n",
        "from keras.layers import Conv2D, MaxPooling2D, Flatten, Dense, Activation\n",
        "from keras.preprocessing.image import ImageDataGenerator\n",
        "from keras.callbacks import TensorBoard\n",
        "\n",
        "size_ = 32\n",
        "\n",
        "model = Sequential()\n",
        "\n",
        "model.add(Conv2D(32, (3, 3), input_shape = (size_, size_, 3), activation = 'relu'))\n",
        "model.add(MaxPooling2D(pool_size = (2, 2)))\n",
        "model.add(Conv2D(64, (3, 3), activation = 'relu'))\n",
        "model.add(MaxPooling2D(pool_size = (2, 2)))\n",
        "model.add(Flatten())\n",
        "\n",
        "model.add(Dense(units = 100, activation = 'relu'))\n",
        "model.add(Dense(units = 8, activation = 'softmax'))\n",
        "\n",
        "model.compile(optimizer = 'adam', loss = 'categorical_crossentropy', metrics = ['categorical_accuracy'])\n",
        "#model.summary()\n",
        "\n",
        "train = ImageDataGenerator(rescale = 1./255)\n",
        "test = ImageDataGenerator(rescale = 1./255)\n",
        "train_data = train.flow_from_directory('Kendaraan/dataset/train', target_size = (size_, size_), batch_size = 32, class_mode = 'categorical')\n",
        "test_data = test.flow_from_directory('Kendaraan/dataset/test', target_size = (size_, size_), batch_size = 32, class_mode = 'categorical')\n",
        "\n",
        "history = model.fit_generator(train_data, steps_per_epoch = 20, epochs = 20, validation_data = test_data, validation_steps = 20)"
      ],
      "execution_count": null,
      "outputs": [
        {
          "output_type": "stream",
          "text": [
            "Found 801 images belonging to 8 classes.\n",
            "Found 915 images belonging to 8 classes.\n"
          ],
          "name": "stdout"
        },
        {
          "output_type": "stream",
          "text": [
            "/usr/local/lib/python3.7/dist-packages/keras/engine/training.py:1915: UserWarning: `Model.fit_generator` is deprecated and will be removed in a future version. Please use `Model.fit`, which supports generators.\n",
            "  warnings.warn('`Model.fit_generator` is deprecated and '\n"
          ],
          "name": "stderr"
        },
        {
          "output_type": "stream",
          "text": [
            "Epoch 1/20\n",
            "20/20 [==============================] - 17s 123ms/step - loss: 2.0075 - categorical_accuracy: 0.2493 - val_loss: 1.7050 - val_categorical_accuracy: 0.2297\n",
            "Epoch 2/20\n",
            "20/20 [==============================] - 2s 94ms/step - loss: 1.5646 - categorical_accuracy: 0.3778 - val_loss: 1.2897 - val_categorical_accuracy: 0.5828\n",
            "Epoch 3/20\n",
            "20/20 [==============================] - 2s 95ms/step - loss: 1.0483 - categorical_accuracy: 0.7008 - val_loss: 1.1054 - val_categorical_accuracy: 0.6344\n",
            "Epoch 4/20\n",
            "20/20 [==============================] - 2s 96ms/step - loss: 0.9036 - categorical_accuracy: 0.6902 - val_loss: 0.9385 - val_categorical_accuracy: 0.7328\n",
            "Epoch 5/20\n",
            "20/20 [==============================] - 2s 96ms/step - loss: 0.7080 - categorical_accuracy: 0.7975 - val_loss: 0.6570 - val_categorical_accuracy: 0.8109\n",
            "Epoch 6/20\n",
            "20/20 [==============================] - 2s 100ms/step - loss: 0.5134 - categorical_accuracy: 0.8406 - val_loss: 0.6705 - val_categorical_accuracy: 0.7953\n",
            "Epoch 7/20\n",
            "20/20 [==============================] - 2s 96ms/step - loss: 0.4995 - categorical_accuracy: 0.8809 - val_loss: 0.5089 - val_categorical_accuracy: 0.8578\n",
            "Epoch 8/20\n",
            "20/20 [==============================] - 2s 98ms/step - loss: 0.8212 - categorical_accuracy: 0.7442 - val_loss: 0.6323 - val_categorical_accuracy: 0.8266\n",
            "Epoch 9/20\n",
            "20/20 [==============================] - 2s 98ms/step - loss: 0.3739 - categorical_accuracy: 0.9144 - val_loss: 0.4159 - val_categorical_accuracy: 0.8859\n",
            "Epoch 10/20\n",
            "20/20 [==============================] - 2s 100ms/step - loss: 0.2011 - categorical_accuracy: 0.9531 - val_loss: 0.4460 - val_categorical_accuracy: 0.8625\n",
            "Epoch 11/20\n",
            "20/20 [==============================] - 2s 91ms/step - loss: 0.2033 - categorical_accuracy: 0.9491 - val_loss: 0.3963 - val_categorical_accuracy: 0.8750\n",
            "Epoch 12/20\n",
            "20/20 [==============================] - 2s 98ms/step - loss: 0.1358 - categorical_accuracy: 0.9737 - val_loss: 0.2806 - val_categorical_accuracy: 0.9172\n",
            "Epoch 13/20\n",
            "20/20 [==============================] - 2s 95ms/step - loss: 0.1044 - categorical_accuracy: 0.9792 - val_loss: 1.0768 - val_categorical_accuracy: 0.6906\n",
            "Epoch 14/20\n",
            "20/20 [==============================] - 2s 99ms/step - loss: 0.3406 - categorical_accuracy: 0.8763 - val_loss: 0.4201 - val_categorical_accuracy: 0.8922\n",
            "Epoch 15/20\n",
            "20/20 [==============================] - 2s 98ms/step - loss: 0.1962 - categorical_accuracy: 0.9642 - val_loss: 0.3156 - val_categorical_accuracy: 0.9156\n",
            "Epoch 16/20\n",
            "20/20 [==============================] - 2s 95ms/step - loss: 0.0900 - categorical_accuracy: 0.9810 - val_loss: 0.3164 - val_categorical_accuracy: 0.9094\n",
            "Epoch 17/20\n",
            "20/20 [==============================] - 2s 97ms/step - loss: 0.0464 - categorical_accuracy: 0.9956 - val_loss: 0.2652 - val_categorical_accuracy: 0.9234\n",
            "Epoch 18/20\n",
            "20/20 [==============================] - 2s 98ms/step - loss: 0.0424 - categorical_accuracy: 1.0000 - val_loss: 0.2348 - val_categorical_accuracy: 0.9312\n",
            "Epoch 19/20\n",
            "20/20 [==============================] - 2s 99ms/step - loss: 0.0301 - categorical_accuracy: 0.9993 - val_loss: 0.2072 - val_categorical_accuracy: 0.9359\n",
            "Epoch 20/20\n",
            "20/20 [==============================] - 2s 91ms/step - loss: 0.0261 - categorical_accuracy: 1.0000 - val_loss: 0.2429 - val_categorical_accuracy: 0.9359\n"
          ],
          "name": "stdout"
        }
      ]
    },
    {
      "cell_type": "code",
      "metadata": {
        "id": "LBth8YW3fu0W"
      },
      "source": [
        "!ls -al dataset/train/"
      ],
      "execution_count": null,
      "outputs": []
    },
    {
      "cell_type": "code",
      "metadata": {
        "id": "PI9bCedghJc5"
      },
      "source": [
        "a = \"Kendaraan/dataset/test/beat/5.png\"\n",
        "b = \"Kendaraan/dataset/test/alpard/1.png\"\n",
        "c = \"Kendaraan/dataset/test/scoopy/7.png\""
      ],
      "execution_count": null,
      "outputs": []
    },
    {
      "cell_type": "markdown",
      "metadata": {
        "id": "ihVG0P6XjGxB"
      },
      "source": [
        "Berikut adalah isi kedua gambar yang akan kita test."
      ]
    },
    {
      "cell_type": "code",
      "metadata": {
        "id": "TzLzqhGdif3M"
      },
      "source": [
        "from matplotlib import pyplot as plt\n",
        "def tampilkan_(ini):\n",
        "  fig = plt.figure(figsize=(2, 2))\n",
        "  img = plt.imread(ini)\n",
        "  plt.imshow(img)\n",
        "  plt.show()\n",
        "\n",
        "tampilkan_(a)\n"
      ],
      "execution_count": null,
      "outputs": []
    },
    {
      "cell_type": "code",
      "metadata": {
        "id": "VyuJfXxPjxmw",
        "colab": {
          "base_uri": "https://localhost:8080/"
        },
        "outputId": "60ab7c4f-2cf9-4eae-e66a-dfdf636c78dc"
      },
      "source": [
        "def switch_dict_key_values(this_dict):\n",
        "    return dict((v,k) for k,v in this_dict.items())\n",
        "\n",
        "nama_train_data = switch_dict_key_values(train_data.class_indices)\n",
        "print(nama_train_data)"
      ],
      "execution_count": null,
      "outputs": [
        {
          "output_type": "stream",
          "text": [
            "{0: 'alpard', 1: 'beat', 2: 'kereta', 3: 'pesawat', 4: 'sai', 5: 'scoopy', 6: 'sport', 7: 'truck'}\n"
          ],
          "name": "stdout"
        }
      ]
    },
    {
      "cell_type": "code",
      "metadata": {
        "id": "HwGMKQzYkDTf",
        "colab": {
          "base_uri": "https://localhost:8080/"
        },
        "outputId": "48c35703-df67-4ca0-ef74-7af14187d068"
      },
      "source": [
        "from keras.preprocessing import image\n",
        "import numpy as np\n",
        "def cek_motor(tipes):\n",
        "  img = image.load_img(tipes, target_size = (size_, size_))\n",
        "  img = image.img_to_array(img)\n",
        "  img = np.expand_dims(img, axis = 0)\n",
        "  hasil = model.predict_classes(img)\n",
        "\n",
        "  print(\"File gambar [\",tipes, \"] diprediksi sebagai\",hasil)\n",
        "\n",
        "\n",
        "#masukin inputan jenis motos\n",
        "cek_motor(a)"
      ],
      "execution_count": null,
      "outputs": [
        {
          "output_type": "stream",
          "text": [
            "File gambar [ Kendaraan/dataset/test/beat/5.png ] diprediksi sebagai [1]\n"
          ],
          "name": "stdout"
        },
        {
          "output_type": "stream",
          "text": [
            "/usr/local/lib/python3.7/dist-packages/keras/engine/sequential.py:450: UserWarning: `model.predict_classes()` is deprecated and will be removed after 2021-01-01. Please use instead:* `np.argmax(model.predict(x), axis=-1)`,   if your model does multi-class classification   (e.g. if it uses a `softmax` last-layer activation).* `(model.predict(x) > 0.5).astype(\"int32\")`,   if your model does binary classification   (e.g. if it uses a `sigmoid` last-layer activation).\n",
            "  warnings.warn('`model.predict_classes()` is deprecated and '\n"
          ],
          "name": "stderr"
        }
      ]
    },
    {
      "cell_type": "code",
      "metadata": {
        "id": "_Njq6AnbMxhz"
      },
      "source": [
        "model.save('model.h5')\n"
      ],
      "execution_count": null,
      "outputs": []
    }
  ]
}